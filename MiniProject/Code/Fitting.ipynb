{
 "cells": [
  {
   "cell_type": "markdown",
   "metadata": {},
   "source": [
    "## Preparing data for fitting\n",
    "\n",
    "Will place data into the model formula for both formulae given by Samraat."
   ]
  },
  {
   "cell_type": "markdown",
   "metadata": {},
   "source": [
    "# Import Packages"
   ]
  },
  {
   "cell_type": "code",
   "execution_count": 1,
   "metadata": {},
   "outputs": [],
   "source": [
    "import scipy as sc\n",
    "import pandas as pd\n",
    "import matplotlib.pyplot as plt\n",
    "import lmfit\n",
    "from scipy.optimize import curve_fit\n",
    "from scipy import stats as stats\n",
    "from math import log as log\n",
    "from math import pi as pi"
   ]
  },
  {
   "cell_type": "markdown",
   "metadata": {},
   "source": [
    "# Import Data"
   ]
  },
  {
   "cell_type": "code",
   "execution_count": 2,
   "metadata": {},
   "outputs": [
    {
     "data": {
      "text/plain": [
       "numpy.ndarray"
      ]
     },
     "execution_count": 2,
     "metadata": {},
     "output_type": "execute_result"
    }
   ],
   "source": [
    "data = pd.read_csv(\"../data/CRat.csv\")\n",
    "subset = data[data[\"ID\"] == 39982]\n",
    "ResDens = sc.array(subset[\"ResDensity\"])\n",
    "NTrait = sc.array(subset[\"N_TraitValue\"])\n",
    "type(ResDens)\n",
    "type(NTrait)"
   ]
  },
  {
   "cell_type": "markdown",
   "metadata": {},
   "source": [
    "# Define Functions"
   ]
  },
  {
   "cell_type": "markdown",
   "metadata": {},
   "source": [
    "## Function 1\n",
    "Then, there is the more mechanistic Holling Type II model (Holling, 1959):\n",
    "\n",
    "### **c=axR / 1+haxR**\n",
    "\n",
    "Here, xR\n",
    "is resource density (Mass / Area or Volume), a is consumer's search rate (Area or Volume / Time ), and h is handling time of the consumer for that resource (time taken to overpower and ingest it).\n",
    "\n",
    "\n",
    "In data:\n",
    "\n",
    "a = free variable?\n",
    "\n",
    "Xr = ResDensity\n",
    "\n",
    "h = free variable?"
   ]
  },
  {
   "cell_type": "code",
   "execution_count": 3,
   "metadata": {},
   "outputs": [],
   "source": [
    "def calc_C(Xr, a, h):\n",
    "    \"\"\"The equation for the type II functional response from Holling, 1959\"\"\"\n",
    "    top = a*Xr\n",
    "    bot = 1 + (h*a*Xr)\n",
    "    C = top/bot\n",
    "    return C "
   ]
  },
  {
   "cell_type": "markdown",
   "metadata": {},
   "source": [
    "VVVThis generates the coeficient of the modelVVV"
   ]
  },
  {
   "cell_type": "code",
   "execution_count": 4,
   "metadata": {},
   "outputs": [
    {
     "data": {
      "text/plain": [
       "array([  1.86343017e-04,   3.55860752e+01])"
      ]
     },
     "execution_count": 4,
     "metadata": {},
     "output_type": "execute_result"
    }
   ],
   "source": [
    "popt, pcov = curve_fit(f = calc_C, xdata = ResDens, ydata = NTrait , p0 = [.1, .1], method = 'lm')\n",
    "popt"
   ]
  },
  {
   "cell_type": "markdown",
   "metadata": {},
   "source": [
    "Generate a series of Resource denities to use when generating model line.\n",
    "Also sort it so the line is smooth and doesn't jump around."
   ]
  },
  {
   "cell_type": "code",
   "execution_count": 5,
   "metadata": {},
   "outputs": [],
   "source": [
    "RDensities = sc.random.uniform(min(NTrait), max(NTrait), 200)\n",
    "RDensities.sort()\n",
    "# RDensities"
   ]
  },
  {
   "cell_type": "code",
   "execution_count": 6,
   "metadata": {},
   "outputs": [
    {
     "data": {
      "text/plain": [
       "Text(0, 0.5, 'N_TraitValue')"
      ]
     },
     "execution_count": 6,
     "metadata": {},
     "output_type": "execute_result"
    },
    {
     "data": {
      "image/png": "[encoded data removed]",
      "text/plain": [
       "<Figure size 432x288 with 1 Axes>"
      ]
     },
     "metadata": {
      "needs_background": "light"
     },
     "output_type": "display_data"
    }
   ],
   "source": [
    "plt.scatter(ResDens, NTrait)\n",
    "# plt.plot(ResDens, calc_C(ResDens, *popt), '-r')\n",
    "plt.plot(RDensities, calc_C(RDensities, *popt), '-g')\n",
    "plt.xlabel('ResourceDensity')\n",
    "plt.ylabel('N_TraitValue')"
   ]
  },
  {
   "cell_type": "markdown",
   "metadata": {},
   "source": [
    "## Function 2\n",
    "There is also the less-mechanistic \"generalized\" functional response model:\n",
    "\n",
    "c=axR^q+1 /\n",
    "\n",
    "   1+haxR^q+1\n",
    "   \n",
    "q also need to be defined for this."
   ]
  },
  {
   "cell_type": "code",
   "execution_count": 7,
   "metadata": {},
   "outputs": [],
   "source": [
    "def calc_CQ(Xr, a, h, q=0.8):  ## arbitrarily difined right now as 0.8\n",
    "    \"\"\"The equation for the more general Type II functional response curve.  \n",
    "    Includes a dimensionless parameter `q` which is used to account for a small lag phase at the start of the curve\"\"\"\n",
    "    top = a*Xr**(q+1)\n",
    "    bot = 1 + (h*a*Xr**(q+1))\n",
    "    C = top/bot\n",
    "    return C "
   ]
  },
  {
   "cell_type": "markdown",
   "metadata": {},
   "source": [
    "### Fit function 2 Using curve_fit"
   ]
  },
  {
   "cell_type": "code",
   "execution_count": 8,
   "metadata": {},
   "outputs": [
    {
     "data": {
      "text/plain": [
       "array([  6.23968576e-06,   4.25476355e+01])"
      ]
     },
     "execution_count": 8,
     "metadata": {},
     "output_type": "execute_result"
    }
   ],
   "source": [
    "popt, pcov = curve_fit(f = calc_CQ, xdata = ResDens, ydata = NTrait, p0 = [.1, .1], method = 'lm')\n",
    "popt"
   ]
  },
  {
   "cell_type": "code",
   "execution_count": 9,
   "metadata": {},
   "outputs": [],
   "source": [
    "RDensities = sc.random.uniform(min(NTrait), max(NTrait), 200)\n",
    "RDensities.sort()"
   ]
  },
  {
   "cell_type": "code",
   "execution_count": 10,
   "metadata": {},
   "outputs": [
    {
     "data": {
      "text/plain": [
       "array([[  9.73540576e-12,   4.02303786e-06],\n",
       "       [  4.02303786e-06,   1.07198271e+01]])"
      ]
     },
     "execution_count": 10,
     "metadata": {},
     "output_type": "execute_result"
    }
   ],
   "source": [
    "pcov"
   ]
  },
  {
   "cell_type": "code",
   "execution_count": 11,
   "metadata": {},
   "outputs": [
    {
     "data": {
      "text/plain": [
       "Text(0, 0.5, 'N_TraitValue')"
      ]
     },
     "execution_count": 11,
     "metadata": {},
     "output_type": "execute_result"
    },
    {
     "data": {
      "image/png": "[encoded data removed]",
      "text/plain": [
       "<Figure size 432x288 with 1 Axes>"
      ]
     },
     "metadata": {
      "needs_background": "light"
     },
     "output_type": "display_data"
    }
   ],
   "source": [
    "plt.scatter(ResDens, NTrait)\n",
    "# plt.plot(ResDens, calc_CQ(ResDens, *popt), '-r')\n",
    "plt.plot(RDensities, calc_CQ(RDensities, *popt), '-g')\n",
    "plt.xlabel('ResourceDensity')\n",
    "plt.ylabel('N_TraitValue')"
   ]
  },
  {
   "cell_type": "markdown",
   "metadata": {},
   "source": [
    "### Fit function 2 using lmfit"
   ]
  },
  {
   "cell_type": "code",
   "execution_count": 12,
   "metadata": {},
   "outputs": [],
   "source": [
    "def calc_CQlmfit(params, Xr):  ## arbitrarily difined right now as 0.05\n",
    "    \"\"\"The equation for the more general Type II functional response curve.\n",
    "    Need an argument params which is a dictionary containing the parameter values.\n",
    "    This dictionary is made using lmfit.parameters().\n",
    "    Includes a dimensionless parameter `q` which is used to account for a small lag phase at the start of the curve\"\"\"\n",
    "    vals = params.valuesdict()\n",
    "    a = vals['a']\n",
    "    h = vals['h']\n",
    "    q = vals['q']\n",
    "    \n",
    "    top = a*Xr**(q+1)\n",
    "    bot = 1 + (h*a*Xr**(q+1))\n",
    "    C = top/bot\n",
    "    return C "
   ]
  },
  {
   "cell_type": "code",
   "execution_count": null,
   "metadata": {},
   "outputs": [],
   "source": []
  },
  {
   "cell_type": "code",
   "execution_count": 13,
   "metadata": {},
   "outputs": [
    {
     "data": {
      "text/html": [
       "<h2>Fit Statistics</h2><table><tr><td>fitting method</td><td>leastsq</td><td></td></tr><tr><td># function evals</td><td>13</td><td></td></tr><tr><td># data points</td><td>9</td><td></td></tr><tr><td># variables</td><td>3</td><td></td></tr><tr><td>chi-square</td><td> 4.3621e-38</td><td></td></tr><tr><td>reduced chi-square</td><td> 7.2701e-39</td><td></td></tr><tr><td>Akaike info crit.</td><td>-788.002575</td><td></td></tr><tr><td>Bayesian info crit.</td><td>-787.410901</td><td></td></tr></table><h2>Variables</h2><table><tr><th> name </th><th> value </th><th> initial value </th><th> min </th><th> max </th><th> vary </th></tr><tr><td> a </td><td>  4.2143e-25 </td><td> 0.1 </td><td>        -inf </td><td>         inf </td><td> True </td></tr><tr><td> h </td><td>  0.40000009 </td><td> 0.1 </td><td>        -inf </td><td>         inf </td><td> True </td></tr><tr><td> q </td><td>  0.79999988 </td><td> 0.8 </td><td>        -inf </td><td>         inf </td><td> True </td></tr></table>"
      ],
      "text/plain": [
       "<lmfit.minimizer.MinimizerResult at 0x7fdc030e7160>"
      ]
     },
     "execution_count": 13,
     "metadata": {},
     "output_type": "execute_result"
    }
   ],
   "source": [
    "# CQMod = lmfit.Model(calc_CQ)\n",
    "# print(CQMod.param_names)\n",
    "\n",
    "\n",
    "val_a =.1\n",
    "val_h = .1\n",
    "val_q = .8\n",
    "\n",
    "CQParams = lmfit.Parameters()\n",
    "CQParams.add_many(('a', val_a), ('h', val_h), ('q', val_q))\n",
    "CQParams.valuesdict()['a']\n",
    "\n",
    "\n",
    "\n",
    "CQ = lmfit.minimize(fcn = calc_CQlmfit, params = CQParams, args = (ResDens,)) # the `,` seems to make it go through item wise\n",
    "\n",
    "\n",
    "# CQ = lmfit.Model(calc_CQ)\n",
    "# CQ.set_param_hint('a', value=.1)\n",
    "# CQ.set_param_hint('h', value=.1)\n",
    "# CQ_params = CQ.make_params()\n",
    "# out = CQ.fit(x = ResDens, params)\n",
    "CQ"
   ]
  },
  {
   "cell_type": "code",
   "execution_count": 61,
   "metadata": {},
   "outputs": [
    {
     "data": {
      "text/plain": [
       "[<matplotlib.lines.Line2D at 0x7fdc020a8dd8>]"
      ]
     },
     "execution_count": 61,
     "metadata": {},
     "output_type": "execute_result"
    },
    {
     "data": {
      "image/png": "[encoded data removed]",
      "text/plain": [
       "<Figure size 432x288 with 1 Axes>"
      ]
     },
     "metadata": {
      "needs_background": "light"
     },
     "output_type": "display_data"
    }
   ],
   "source": [
    "FittedVals = CQ.params.valuesdict()\n",
    "calc_CQlmfit(CQ.params, ResDens)\n",
    "# print(calc_CQlmfit(CQ.params, RDensities))\n",
    "# print(calc_CQlmfit(CQ.params, ResDens))\n",
    "plt.scatter(ResDens, NTrait)\n",
    "plt.plot(ResDens, calc_CQlmfit(CQ.params, ResDens), '-r')\n",
    "plt.plot(RDensities, calc_CQlmfit(CQ.params, RDensities), '-g')\n",
    "# plt.xlabel('ResourceDensity')\n",
    "# plt.ylabel('N_TraitValue')"
   ]
  },
  {
   "cell_type": "markdown",
   "metadata": {},
   "source": [
    "# Calculate RSS\n",
    "ModelFit = the fitted NLS Model\n",
    "\n",
    "data2fitx = data we are using for the x axis of our model, i.e. ResDens\n",
    "\n",
    "\n",
    "**Mode not needed in funtion below?**"
   ]
  },
  {
   "cell_type": "code",
   "execution_count": 15,
   "metadata": {},
   "outputs": [
    {
     "data": {
      "text/plain": [
       "3761630.9930024752"
      ]
     },
     "execution_count": 15,
     "metadata": {},
     "output_type": "execute_result"
    }
   ],
   "source": [
    "def calc_RSS(data2fitx, ModelFit, Model = calc_C, mode = \"NLS\"):## model var is to specifty which equation should be used. Model fit is popt under sc.optimize\n",
    "    \"\"\"Calculates the Residual Sum of Squares for a set of data given the model fit.  \n",
    "    The equation used to fit the model can also be changed using the `Model` argument, default is the `calc_C` function.\n",
    "    Can be used for both NLS and lm, specified with mode = \"NLS\" OR \"lm\".\"\"\"\n",
    "    diffList = []\n",
    "    a = ModelFit[0] # search rate\n",
    "    h = ModelFit[1] # handling time\n",
    "\n",
    "    if mode == \"NLS\":\n",
    "        for i in range(len(data2fitx)):\n",
    "        #find diff between model and observed\n",
    "            diffList.append(abs(Model(data2fitx[i], a, h) - data2fitx[i])**2)\n",
    "            #sum the values\n",
    "            RSS = sum(diffList)\n",
    "\n",
    "    if mode == \"lm\":\n",
    "        for i in range(len(data2fitx)):\n",
    "        #find diff between model and observed\n",
    "            diffList.append(abs(Model(data2fitx[i], a, h) - data2fitx[i])**2)\n",
    "        #sum the values\n",
    "            RSS = sum(diffList)\n",
    "    \n",
    "    return RSS  \n",
    "\n",
    "RSS = calc_RSS(ResDens, popt, Model=calc_CQ)\n",
    "RSS"
   ]
  },
  {
   "cell_type": "markdown",
   "metadata": {},
   "source": [
    "# Calculating AIC\n",
    "\n",
    "***from Model Fitting Notes***\n",
    "\n",
    "ModelFit = the fitted NLS Model\n",
    "\n",
    "n <- nrow(Data2Fit) #set sample size\n",
    "\n",
    "pModel <- length(coef(ModelFit)) # get number of parameters in power law model\n",
    "\n",
    "Model_RSS <- sum(residuals(ModelFit)^2) \n",
    "\n",
    "AIC_Model <- n + 2 + n * log((2 * pi) / n) +  n * log(Model_RSS) + 2 * pModel\n"
   ]
  },
  {
   "cell_type": "markdown",
   "metadata": {},
   "source": [
    "This is to find the number of parameters of the model"
   ]
  },
  {
   "cell_type": "code",
   "execution_count": 16,
   "metadata": {},
   "outputs": [
    {
     "data": {
      "text/plain": [
       "2"
      ]
     },
     "execution_count": 16,
     "metadata": {},
     "output_type": "execute_result"
    }
   ],
   "source": [
    "def pModel(coefficients):\n",
    "    \"\"\"Return number of parameters of a model when given a list of them.\"\"\"\n",
    "    return len(coefficients)\n",
    "p = pModel(popt)\n",
    "p"
   ]
  },
  {
   "cell_type": "code",
   "execution_count": 17,
   "metadata": {},
   "outputs": [
    {
     "data": {
      "text/plain": [
       "148.02914116608756"
      ]
     },
     "execution_count": 17,
     "metadata": {},
     "output_type": "execute_result"
    }
   ],
   "source": [
    "def AIC(data2fit, n, Model_RSS, pModel):\n",
    "    \"\"\"Calculates the AIC value given the data (data2fit), number of samples (n), \n",
    "    the RSS of the model (Model_RSS) and number of parameters in the model(pModel).\"\"\"\n",
    "    return n + 2 + n * log((2 * pi) / n) + n * log(Model_RSS) + 2 * pModel\n",
    "\n",
    "AIC(ResDens, len(ResDens), RSS, p)"
   ]
  },
  {
   "cell_type": "markdown",
   "metadata": {},
   "source": [
    "# Calculating BIC\n",
    "\n",
    "***From Model FItting Lecture notes***\n",
    "\n",
    "n + 2 + n *ln(2pi/n) + n *ln(RSS) + p *ln(n)\n",
    "\n",
    "log in python and R is natural log by default.  log 10 is base 10."
   ]
  },
  {
   "cell_type": "code",
   "execution_count": 18,
   "metadata": {},
   "outputs": [
    {
     "data": {
      "text/plain": [
       "148.42359032075998"
      ]
     },
     "execution_count": 18,
     "metadata": {},
     "output_type": "execute_result"
    }
   ],
   "source": [
    "def calc_BIC(data2fit, n, Model_RSS, pModel):\n",
    "    \"\"\"Calculates the BIC value given the data (data2fit), number of samples (n), \n",
    "    the RSS of the model (Model_RSS) and number of parameters in the model(pModel).\"\"\"\n",
    "    return n + 2 + n *log(2*pi/n) + n *log(RSS) + p *log(n)\n",
    "\n",
    "calc_BIC(ResDens, len(ResDens), RSS, p)"
   ]
  },
  {
   "cell_type": "markdown",
   "metadata": {},
   "source": [
    "# Estimate Starting Values\n",
    "\n",
    "`h` estimate => the max value for the `N_TrainValue`\n",
    "\n",
    "`a` estimate => the slope of a `lm` for  the model,  can remove upper `ResDens`values until highest `AIC` is obtained.\n",
    "\n",
    "**Caveats** \n",
    "* `a` will not account for lag phase\n",
    "* `a` will not look at `IC` can see if this changes values significantly and read into which should be better for this dataset.\n",
    "\n",
    "\n",
    "\n",
    "**Alternative Methods to Try**\n",
    "\n",
    "* log transform the data for obtaining `a`\n",
    "* find the top several values of `N_Trait val` and obtain a mean OR lm and take the intercept.\n",
    "    * could be negative slope in which case this is questionable"
   ]
  },
  {
   "cell_type": "markdown",
   "metadata": {},
   "source": [
    "### Estimate `h`"
   ]
  },
  {
   "cell_type": "code",
   "execution_count": 62,
   "metadata": {},
   "outputs": [
    {
     "data": {
      "text/plain": [
       "1197.0154"
      ]
     },
     "execution_count": 62,
     "metadata": {},
     "output_type": "execute_result"
    }
   ],
   "source": [
    "h = max(ResDens)\n",
    "h"
   ]
  },
  {
   "cell_type": "markdown",
   "metadata": {},
   "source": [
    "### Estimate `a`"
   ]
  },
  {
   "cell_type": "code",
   "execution_count": 70,
   "metadata": {},
   "outputs": [
    {
     "name": "stdout",
     "output_type": "stream",
     "text": [
      "[   25.6513    51.1261   103.6368   357.0664   304.7364   624.6364\n",
      "   659.722   1126.5904  1197.0154]\n",
      "[1.5383667372729225e-05, 1197.0154]\n",
      "<class 'numpy.float64'>\n",
      "<class 'numpy.float64'>\n",
      "[   25.6513    51.1261   103.6368   357.0664   304.7364   624.6364\n",
      "   659.722   1126.5904]\n",
      "[1.7997701541799419e-05, 1197.0154]\n",
      "<class 'numpy.float64'>\n",
      "<class 'numpy.float64'>\n",
      "[  25.6513   51.1261  103.6368  357.0664  304.7364  624.6364  659.722 ]\n",
      "[3.0113689425571859e-05, 1197.0154]\n",
      "<class 'numpy.float64'>\n",
      "<class 'numpy.float64'>\n",
      "[  25.6513   51.1261  103.6368  357.0664  304.7364  624.6364]\n",
      "[2.8324425049477198e-05, 1197.0154]\n",
      "<class 'numpy.float64'>\n",
      "<class 'numpy.float64'>\n",
      "[  25.6513   51.1261  103.6368  357.0664  304.7364]\n",
      "[3.6682123019541039e-05, 1197.0154]\n",
      "<class 'numpy.float64'>\n",
      "<class 'numpy.float64'>\n",
      "[  25.6513   51.1261  103.6368  357.0664]\n",
      "[2.4043844473830938e-05, 1197.0154]\n",
      "<class 'numpy.float64'>\n",
      "<class 'numpy.float64'>\n",
      "[  25.6513   51.1261  103.6368]\n",
      "[0.00013134836542616818, 1197.0154]\n",
      "<class 'numpy.float64'>\n",
      "<class 'numpy.float64'>\n",
      "[ 25.6513  51.1261]\n",
      "[2.5745481809474453e-05, 1197.0154]\n",
      "<class 'numpy.float64'>\n",
      "<class 'numpy.float64'>\n",
      "[ 25.6513]\n",
      "[nan, 1197.0154]\n"
     ]
    },
    {
     "name": "stderr",
     "output_type": "stream",
     "text": [
      "/usr/lib/python3/dist-packages/scipy/stats/_stats_mstats_common.py:106: RuntimeWarning: invalid value encountered in double_scalars\n",
      "  slope = r_num / ssxm\n",
      "/usr/lib/python3/dist-packages/scipy/stats/_stats_mstats_common.py:116: RuntimeWarning: invalid value encountered in sqrt\n",
      "  t = r * np.sqrt(df / ((1.0 - r + TINY)*(1.0 + r + TINY)))\n",
      "/usr/lib/python3/dist-packages/scipy/stats/_stats_mstats_common.py:118: RuntimeWarning: invalid value encountered in double_scalars\n",
      "  sterrest = np.sqrt((1 - r**2) * ssym / ssxm / df)\n"
     ]
    },
    {
     "data": {
      "text/plain": [
       "1.5383667372729225e-05"
      ]
     },
     "execution_count": 70,
     "metadata": {},
     "output_type": "execute_result"
    }
   ],
   "source": [
    "best_a = None # for recording the value of `a` which gave the lowest RSS value.\n",
    "smallest_RSS = None # for recording the lowest RSS value.\n",
    "\n",
    "# equalList = []#list for storing any equal results\n",
    "for i in range(len(ResDens), -1, -1): ## loop back from len(ResDens)\n",
    "\n",
    "    tmpRegress = stats.linregress(ResDens[0:i], NTrait[0:i])\n",
    "    paramEst =  [tmpRegress[0], h]#parameters for this iteration, h is found beforehand. a is slope of the line\n",
    "    print(paramEst)\n",
    "    if smallest_RSS == None: # i.e. first loop\n",
    "        \n",
    "        smallest_RSS = calc_RSS(ResDens[0:i],paramEst, Model = calc_CQ)\n",
    "        smallest_a = tmpRegress[0]\n",
    "        \n",
    "    elif calc_RSS(ResDens[0:i],params, Model = calc_CQ) < smallest_RSS:#if RSS is smaller record\n",
    "        \n",
    "        if sc.isnan(tmpRegress[0]): # skip if a becomes nan\n",
    "            break\n",
    "            \n",
    "        else:\n",
    "            smallest_RSS = calc_RSS(ResDens[0:i], paramEst, Model = calc_CQ)\n",
    "            smallest_a = tmpRegress[0]\n",
    "\n",
    "\n",
    "#     elif: #if equal what to do?\n",
    "    \n",
    "    else: #if not skip\n",
    "        print(\"bigger\")\n",
    "        \n",
    "        \n",
    "    if paramEst[0] == sc.nan:\n",
    "        print(\"boo\")\n",
    "    print(type(smallest_a))\n",
    "    print(type(paramEst[0]))\n",
    "        \n",
    "        \n",
    "        \n",
    "#         print(type(params))\n",
    "#         smallest_RSS = RSS(ResDens, params, Model = calc_C)\n",
    "        \n",
    "    \n",
    "\n",
    "\n",
    "stats.linregress(ResDens, NTrait)[0]\n",
    "\n",
    "\n",
    "\n",
    "\n",
    "\n",
    "\n",
    "\n",
    "\n",
    "\n"
   ]
  },
  {
   "cell_type": "code",
   "execution_count": 68,
   "metadata": {},
   "outputs": [
    {
     "data": {
      "text/plain": [
       "nan"
      ]
     },
     "execution_count": 68,
     "metadata": {},
     "output_type": "execute_result"
    }
   ],
   "source": [
    "sc.nan"
   ]
  },
  {
   "cell_type": "markdown",
   "metadata": {},
   "source": [
    "### **Concerns**\n",
    "is it reasonable to stop once the RSS is no longer improving, i.e. assume we have removed all asymptoted data points"
   ]
  },
  {
   "cell_type": "markdown",
   "metadata": {},
   "source": [
    "### example on using optimize.curve_fit from: https://docs.scipy.org/doc/scipy/reference/generated/scipy.optimize.curve_fit.html#scipy.optimize.curve_fit\n"
   ]
  },
  {
   "cell_type": "code",
   "execution_count": 21,
   "metadata": {},
   "outputs": [
    {
     "data": {
      "image/png": "[encoded data removed]",
      "text/plain": [
       "<Figure size 432x288 with 1 Axes>"
      ]
     },
     "metadata": {
      "needs_background": "light"
     },
     "output_type": "display_data"
    }
   ],
   "source": [
    "# \n",
    "import matplotlib.pyplot as plt\n",
    "import numpy as np\n",
    "from scipy.optimize import curve_fit\n",
    "\n",
    "\n",
    "def func(x, a, b, c):\n",
    "    return a * np.exp(-b * x) + c\n",
    "\n",
    "# Define the data to be fit with some noise:\n",
    "\n",
    "\n",
    "xdata = np.linspace(0, 4, 50)\n",
    "y = func(xdata, 2.5, 1.3, 0.5)\n",
    "np.random.seed(1729)\n",
    "y_noise = 0.2 * np.random.normal(size=xdata.size)\n",
    "ydata = y + y_noise\n",
    "plt.plot(xdata, ydata, 'b-', label='data')\n",
    "\n",
    "# Fit for the parameters a, b, c of the function func:\n",
    "\n",
    "\n",
    "popt, pcov = curve_fit(func, xdata, ydata)\n",
    "popt\n",
    "\n",
    "plt.plot(xdata, func(xdata, *popt), 'r-', label='fit: a=%5.3f, b=%5.3f, c=%5.3f' % tuple(popt))\n",
    "\n",
    "# Constrain the optimization to the region of 0 <= a <= 3, 0 <= b <= 1 and 0 <= c <= 0.5:\n",
    "\n",
    "\n",
    "popt, pcov = curve_fit(func, xdata, ydata, bounds=(0, [3., 1., 0.5]))\n",
    "popt\n",
    "\n",
    "plt.plot(xdata, func(xdata, *popt), 'g--', label='fit: a=%5.3f, b=%5.3f, c=%5.3f' % tuple(popt))\n",
    "\n",
    "\n",
    "\n",
    "plt.xlabel('x')\n",
    "plt.ylabel('y')\n",
    "plt.legend()\n",
    "plt.show()\n",
    "\n"
   ]
  },
  {
   "cell_type": "markdown",
   "metadata": {},
   "source": [
    "for starting values can look at the plots \n",
    "\n",
    "can also try to run the freeplot 1000x and use values generated by that"
   ]
  },
  {
   "cell_type": "markdown",
   "metadata": {},
   "source": [
    "## Notes on finding starting values\n",
    "\n",
    "by looking at tangents at different parts of model you can get reasonable starting values for parameters.\n",
    "\n",
    "break up curve and fit lm to each section. (the lm shouldnt deviate each run so no need to repeat)\n",
    "\n",
    "a is the increaseing section\n",
    "h is the leveled out max section\n",
    "    \n",
    "once this is optimised.  If there are a lot of failed fits then can sample around the estimated starting values from a distribution to further optimise\n",
    "\n",
    "find line for h, i.e. take last point and vals near it/ last two vals and make a line.  take a to be all vals below that line's intercept.\n",
    "\n",
    "for a can fit a polynomial and slowly remove points, once the polynomial stops fitting then it should be linear.\n",
    "\n",
    "![Board from class](NotebookPictures/startingVals.jpg)"
   ]
  },
  {
   "cell_type": "code",
   "execution_count": null,
   "metadata": {},
   "outputs": [],
   "source": []
  }
 ],
 "metadata": {
  "kernelspec": {
   "display_name": "Python 3",
   "language": "python",
   "name": "python3"
  },
  "language_info": {
   "codemirror_mode": {
    "name": "ipython",
    "version": 3
   },
   "file_extension": ".py",
   "mimetype": "text/x-python",
   "name": "python",
   "nbconvert_exporter": "python",
   "pygments_lexer": "ipython3",
   "version": "3.6.8"
  }
 },
 "nbformat": 4,
 "nbformat_minor": 2
}
