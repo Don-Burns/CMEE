{
 "cells": [
  {
   "cell_type": "markdown",
   "metadata": {},
   "source": [
    "## Preparing data for fitting\n",
    "\n",
    "Will place data into the model formula for both formulae given by Samraat."
   ]
  },
  {
   "cell_type": "markdown",
   "metadata": {},
   "source": [
    "# Import Packages"
   ]
  },
  {
   "cell_type": "code",
   "execution_count": 1,
   "metadata": {},
   "outputs": [],
   "source": [
    "import scipy as sc\n",
    "import pandas as pd\n",
    "import matplotlib.pyplot as plt\n",
    "import lmfit\n",
    "from scipy.optimize import curve_fit\n",
    "from scipy import stats as stats\n",
    "from math import log as log\n",
    "from math import pi as pi"
   ]
  },
  {
   "cell_type": "markdown",
   "metadata": {},
   "source": [
    "# Import Data"
   ]
  },
  {
   "cell_type": "code",
   "execution_count": 2,
   "metadata": {},
   "outputs": [
    {
     "data": {
      "text/plain": [
       "numpy.ndarray"
      ]
     },
     "execution_count": 2,
     "metadata": {},
     "output_type": "execute_result"
    }
   ],
   "source": [
    "data = pd.read_csv(\"../data/CRat.csv\")\n",
    "subset = data[data[\"ID\"] == 39982]\n",
    "ResDens = sc.array(subset[\"ResDensity\"])\n",
    "NTrait = sc.array(subset[\"N_TraitValue\"])\n",
    "type(ResDens)\n",
    "type(NTrait)"
   ]
  },
  {
   "cell_type": "markdown",
   "metadata": {},
   "source": [
    "# Define Functions"
   ]
  },
  {
   "cell_type": "markdown",
   "metadata": {},
   "source": [
    "## Function 1\n",
    "Then, there is the more mechanistic Holling Type II model (Holling, 1959):\n",
    "\n",
    "### **c=axR / 1+haxR**\n",
    "\n",
    "Here, xR\n",
    "is resource density (Mass / Area or Volume), a is consumer's search rate (Area or Volume / Time ), and h is handling time of the consumer for that resource (time taken to overpower and ingest it).\n",
    "\n",
    "\n",
    "In data:\n",
    "\n",
    "a = free variable?\n",
    "\n",
    "Xr = ResDensity\n",
    "\n",
    "h = free variable?"
   ]
  },
  {
   "cell_type": "code",
   "execution_count": 3,
   "metadata": {},
   "outputs": [],
   "source": [
    "def calc_C(Xr, a, h):\n",
    "    \"\"\"The equation for the type II functional response from Holling, 1959\"\"\"\n",
    "    top = a*Xr\n",
    "    bot = 1 + (h*a*Xr)\n",
    "    C = top/bot\n",
    "    return C "
   ]
  },
  {
   "cell_type": "markdown",
   "metadata": {},
   "source": [
    "VVVThis generates the coeficient of the modelVVV"
   ]
  },
  {
   "cell_type": "code",
   "execution_count": 4,
   "metadata": {},
   "outputs": [
    {
     "data": {
      "text/plain": [
       "array([  1.86343017e-04,   3.55860752e+01])"
      ]
     },
     "execution_count": 4,
     "metadata": {},
     "output_type": "execute_result"
    }
   ],
   "source": [
    "popt, pcov = curve_fit(f = calc_C, xdata = ResDens, ydata = NTrait , p0 = [.1, .1], method = 'lm')\n",
    "popt"
   ]
  },
  {
   "cell_type": "markdown",
   "metadata": {},
   "source": [
    "Generate a series of Resource denities to use when generating model line.\n",
    "Also sort it so the line is smooth and doesn't jump around."
   ]
  },
  {
   "cell_type": "code",
   "execution_count": 5,
   "metadata": {},
   "outputs": [
    {
     "data": {
      "text/plain": [
       "array([   25.6513,    51.1261,   103.6368,   357.0664,   304.7364,\n",
       "         624.6364,   659.722 ,  1126.5904,  1197.0154])"
      ]
     },
     "execution_count": 5,
     "metadata": {},
     "output_type": "execute_result"
    }
   ],
   "source": [
    "RDensities = sc.random.uniform(min(ResDens), max(ResDens), 200)\n",
    "RDensities.sort()\n",
    "# RDensities\n",
    "ResDens\n"
   ]
  },
  {
   "cell_type": "code",
   "execution_count": 6,
   "metadata": {},
   "outputs": [],
   "source": [
    "def calc_Clmfit(params, Xr):  ## arbitrarily difined right now as 0.05\n",
    "    \"\"\"The equation for the more general Type II functional response curve.\n",
    "    Need an argument params which is a dictionary containing the parameter values.\n",
    "    This dictionary is made using lmfit.parameters().\"\"\"\n",
    "    vals = params.valuesdict()\n",
    "    a = vals['a']\n",
    "    h = vals['h']\n",
    "  \n",
    "    top = a*Xr\n",
    "    bot = 1 + (h*a*Xr)\n",
    "    C = top/bot\n",
    "    return C "
   ]
  },
  {
   "cell_type": "code",
   "execution_count": 7,
   "metadata": {},
   "outputs": [
    {
     "data": {
      "text/plain": [
       "Text(0, 0.5, 'N_TraitValue')"
      ]
     },
     "execution_count": 7,
     "metadata": {},
     "output_type": "execute_result"
    },
    {
     "data": {
      "image/png": "[encoded data removed]",
      "text/plain": [
       "<Figure size 432x288 with 1 Axes>"
      ]
     },
     "metadata": {
      "needs_background": "light"
     },
     "output_type": "display_data"
    }
   ],
   "source": [
    "plt.scatter(ResDens, NTrait)\n",
    "plt.plot(ResDens, calc_C(ResDens, *popt), '-r')\n",
    "plt.plot(RDensities, calc_C(RDensities, *popt), '-g')\n",
    "plt.xlabel('ResourceDensity')\n",
    "plt.ylabel('N_TraitValue')"
   ]
  },
  {
   "cell_type": "markdown",
   "metadata": {},
   "source": [
    "### Fit Using `lmfit`"
   ]
  },
  {
   "cell_type": "markdown",
   "metadata": {},
   "source": [
    "#### using minimize()"
   ]
  },
  {
   "cell_type": "code",
   "execution_count": 8,
   "metadata": {},
   "outputs": [
    {
     "data": {
      "text/html": [
       "<h2>Fit Statistics</h2><table><tr><td>fitting method</td><td>leastsq</td><td></td></tr><tr><td># function evals</td><td>10</td><td></td></tr><tr><td># data points</td><td>9</td><td></td></tr><tr><td># variables</td><td>2</td><td></td></tr><tr><td>chi-square</td><td> 8.8505e-47</td><td></td></tr><tr><td>reduced chi-square</td><td> 1.2644e-47</td><td></td></tr><tr><td>Akaike info crit.</td><td>-970.144199</td><td></td></tr><tr><td>Bayesian info crit.</td><td>-969.749750</td><td></td></tr></table><h2>Variables</h2><table><tr><th> name </th><th> value </th><th> initial value </th><th> min </th><th> max </th><th> vary </th></tr><tr><td> a </td><td>  4.8505e-27 </td><td> 0.1 </td><td>        -inf </td><td>         inf </td><td> True </td></tr><tr><td> h </td><td>  0.40612472 </td><td> 0.1 </td><td>        -inf </td><td>         inf </td><td> True </td></tr></table>"
      ],
      "text/plain": [
       "<lmfit.minimizer.MinimizerResult at 0x7fa4b48e57b8>"
      ]
     },
     "execution_count": 8,
     "metadata": {},
     "output_type": "execute_result"
    }
   ],
   "source": [
    "\n",
    "val_a =.1\n",
    "val_h = .1\n",
    "\n",
    "\n",
    "CParams = lmfit.Parameters()\n",
    "CParams.add_many(('a', val_a), ('h', val_h))\n",
    "CParams.valuesdict()['a']\n",
    "\n",
    "\n",
    "\n",
    "C = lmfit.minimize(fcn = calc_Clmfit, params = CParams, args = (ResDens,)) # the `,` seems to make it go through item wise\n",
    "\n",
    "C"
   ]
  },
  {
   "cell_type": "code",
   "execution_count": 9,
   "metadata": {},
   "outputs": [
    {
     "data": {
      "text/plain": [
       "Text(0, 0.5, 'N_TraitValue')"
      ]
     },
     "execution_count": 9,
     "metadata": {},
     "output_type": "execute_result"
    },
    {
     "data": {
      "image/png": "[encoded data removed]",
      "text/plain": [
       "<Figure size 432x288 with 1 Axes>"
      ]
     },
     "metadata": {
      "needs_background": "light"
     },
     "output_type": "display_data"
    }
   ],
   "source": [
    "FittedVals = C.params.valuesdict()\n",
    "calc_Clmfit(C.params, ResDens)\n",
    "# print(calc_Clmfit(C.params, RDensities))\n",
    "# print(calc_Clmfit(C.params, ResDens))\n",
    "plt.scatter(ResDens, NTrait)\n",
    "plt.plot(ResDens, calc_Clmfit(C.params, ResDens), '-r')\n",
    "plt.plot(RDensities, calc_Clmfit(C.params, RDensities), '-g')\n",
    "plt.xlabel('ResourceDensity')\n",
    "plt.ylabel('N_TraitValue')"
   ]
  },
  {
   "cell_type": "markdown",
   "metadata": {},
   "source": [
    "#### Using Model()\n",
    "see [this tutorial](https://lmfit-py.readthedocs.io/en/0.9.0/model.html) for details"
   ]
  },
  {
   "cell_type": "code",
   "execution_count": 10,
   "metadata": {},
   "outputs": [
    {
     "name": "stdout",
     "output_type": "stream",
     "text": [
      "[[Model]]\n",
      "    Model(calc_C)\n",
      "[[Fit Statistics]]\n",
      "    # fitting method   = leastsq\n",
      "    # function evals   = 40\n",
      "    # data points      = 9\n",
      "    # variables        = 2\n",
      "    chi-square         = 8.3339e-05\n",
      "    reduced chi-square = 1.1906e-05\n",
      "    Akaike info crit   = -100.308341\n",
      "    Bayesian info crit = -99.9138922\n",
      "[[Variables]]\n",
      "    a:  1.8634e-04 +/- 6.5750e-05 (35.28%) (init = 0.1)\n",
      "    h:  35.5860752 +/- 4.07687991 (11.46%) (init = 0.1)\n",
      "[[Correlations]] (unreported correlations are < 0.100)\n",
      "    C(a, h) =  0.743\n",
      "0.000186343016832\n"
     ]
    },
    {
     "data": {
      "image/png": "[encoded data removed]",
      "text/plain": [
       "<Figure size 432x288 with 1 Axes>"
      ]
     },
     "metadata": {
      "needs_background": "light"
     },
     "output_type": "display_data"
    }
   ],
   "source": [
    "Cmod = lmfit.Model(calc_C)\n",
    "params = Cmod.make_params(a = .1, h = .1)\n",
    "results = Cmod.fit(NTrait, Xr = ResDens, a =.1, h = .1)\n",
    "print(results.fit_report())\n",
    "\n",
    "plt.scatter(ResDens, NTrait)\n",
    "plt.plot(ResDens, results.best_fit, '-r')\n",
    "plt.plot(RDensities, calc_C(RDensities, *popt), '-g')\n",
    "plt.xlabel('ResourceDensity')\n",
    "plt.ylabel('N_TraitValue')\n",
    "\n",
    "results.aic # returns AIC\n",
    "print(results.best_values[\"a\"])"
   ]
  },
  {
   "cell_type": "markdown",
   "metadata": {},
   "source": [
    "[See this for more info on methods with results](https://lmfit.github.io/lmfit-py/model.html#lmfit.model.ModelResult)"
   ]
  },
  {
   "cell_type": "markdown",
   "metadata": {},
   "source": [
    "## Function 2\n",
    "There is also the less-mechanistic \"generalized\" functional response model:\n",
    "\n",
    "c=axR^q+1 /\n",
    "\n",
    "   1+haxR^q+1\n",
    "   \n",
    "q also need to be defined for this."
   ]
  },
  {
   "cell_type": "code",
   "execution_count": 11,
   "metadata": {},
   "outputs": [],
   "source": [
    "def calc_CQ(Xr, a, h, q=0.8):  ## arbitrarily difined right now as 0.8\n",
    "    \"\"\"The equation for the more general Type II functional response curve.  \n",
    "    Includes a dimensionless parameter `q` which is used to account for a small lag phase at the start of the curve\"\"\"\n",
    "    top = a*Xr**(q+1)\n",
    "    bot = 1 + (h*a*Xr**(q+1))\n",
    "    C = top/bot\n",
    "    return C \n"
   ]
  },
  {
   "cell_type": "markdown",
   "metadata": {},
   "source": [
    "### Fit function 2 Using curve_fit"
   ]
  },
  {
   "cell_type": "code",
   "execution_count": 12,
   "metadata": {},
   "outputs": [
    {
     "data": {
      "text/plain": [
       "array([  6.23968576e-06,   4.25476355e+01])"
      ]
     },
     "execution_count": 12,
     "metadata": {},
     "output_type": "execute_result"
    }
   ],
   "source": [
    "popt, pcov = curve_fit(f = calc_CQ, xdata = ResDens, ydata = NTrait, p0 = [.1, .1], method = 'lm')\n",
    "popt"
   ]
  },
  {
   "cell_type": "code",
   "execution_count": 13,
   "metadata": {},
   "outputs": [
    {
     "data": {
      "text/plain": [
       "array([ 0.24889607,  0.24903359,  0.24907954,  0.2491883 ,  0.2491951 ,\n",
       "        0.24937697,  0.24941117,  0.24948805,  0.24950387,  0.24952776,\n",
       "        0.24958816,  0.24963824,  0.24969458,  0.24972978,  0.24973728,\n",
       "        0.2497573 ,  0.24977037,  0.24977231,  0.24978293,  0.24978521,\n",
       "        0.2497866 ,  0.2497985 ,  0.24981593,  0.24982777,  0.24983037,\n",
       "        0.24983108,  0.24983147,  0.24983782,  0.24984087,  0.24985641,\n",
       "        0.24985837,  0.24985874,  0.24986125,  0.2498817 ,  0.2498822 ,\n",
       "        0.24988491,  0.24989041,  0.24989365,  0.24989396,  0.2499009 ,\n",
       "        0.24990318,  0.24990653,  0.24990694,  0.24990724,  0.24990868,\n",
       "        0.2499091 ,  0.24991132,  0.24991166,  0.24991192,  0.24991229,\n",
       "        0.24991265,  0.24991362,  0.24991507,  0.24991584,  0.24991666,\n",
       "        0.24991961,  0.24991998,  0.24992043,  0.24992072,  0.24992142,\n",
       "        0.24992271,  0.24992364,  0.24992984,  0.24993099,  0.24993556,\n",
       "        0.24993612,  0.24993639,  0.24993701,  0.24993723,  0.24993745,\n",
       "        0.24993791,  0.24993803,  0.24993911,  0.24994116,  0.24994232,\n",
       "        0.24994251,  0.24994344,  0.2499438 ,  0.24994451,  0.24994464,\n",
       "        0.2499451 ,  0.24994566,  0.24994595,  0.2499473 ,  0.24994744,\n",
       "        0.24994769,  0.24994787,  0.24994826,  0.24994909,  0.24994952,\n",
       "        0.24995004,  0.24995016,  0.24995091,  0.24995132,  0.24995158,\n",
       "        0.24995193,  0.24995206,  0.24995247,  0.24995266,  0.24995269,\n",
       "        0.24995278,  0.24995308,  0.24995335,  0.2499534 ,  0.24995349,\n",
       "        0.24995358,  0.2499536 ,  0.24995405,  0.24995485,  0.24995682,\n",
       "        0.24995699,  0.24995702,  0.24995734,  0.24995748,  0.24995748,\n",
       "        0.24995785,  0.24995788,  0.24995806,  0.24995808,  0.24995879,\n",
       "        0.2499589 ,  0.24995945,  0.24995977,  0.2499602 ,  0.24996038,\n",
       "        0.24996061,  0.24996064,  0.24996105,  0.24996126,  0.24996127,\n",
       "        0.2499614 ,  0.24996142,  0.24996179,  0.24996188,  0.24996227,\n",
       "        0.24996228,  0.24996256,  0.24996275,  0.24996332,  0.24996439,\n",
       "        0.24996456,  0.2499647 ,  0.24996471,  0.24996475,  0.24996486,\n",
       "        0.24996521,  0.24996524,  0.24996549,  0.24996561,  0.24996565,\n",
       "        0.24996589,  0.24996593,  0.24996628,  0.24996631,  0.24996635,\n",
       "        0.24996655,  0.24996657,  0.2499669 ,  0.24996728,  0.24996728,\n",
       "        0.24996741,  0.24996767,  0.2499677 ,  0.24996785,  0.24996824,\n",
       "        0.24996825,  0.24996855,  0.24996908,  0.2499692 ,  0.24996927,\n",
       "        0.24996979,  0.24996998,  0.24997003,  0.2499702 ,  0.24997066,\n",
       "        0.24997072,  0.24997082,  0.24997107,  0.24997109,  0.24997114,\n",
       "        0.24997117,  0.24997126,  0.24997178,  0.24997191,  0.24997213,\n",
       "        0.24997218,  0.24997225,  0.24997225,  0.24997228,  0.24997255,\n",
       "        0.24997265,  0.24997267,  0.24997276,  0.24997289,  0.24997295,\n",
       "        0.24997297,  0.24997315,  0.2499733 ,  0.24997352,  0.24997376])"
      ]
     },
     "execution_count": 13,
     "metadata": {},
     "output_type": "execute_result"
    }
   ],
   "source": [
    "RDensities = sc.random.uniform(min(ResDens), max(ResDens), 200)\n",
    "RDensities.sort()\n",
    "calc_CQ(RDensities, 2, 4, 0)"
   ]
  },
  {
   "cell_type": "code",
   "execution_count": 14,
   "metadata": {},
   "outputs": [
    {
     "data": {
      "text/plain": [
       "array([[  9.73540576e-12,   4.02303786e-06],\n",
       "       [  4.02303786e-06,   1.07198271e+01]])"
      ]
     },
     "execution_count": 14,
     "metadata": {},
     "output_type": "execute_result"
    }
   ],
   "source": [
    "pcov"
   ]
  },
  {
   "cell_type": "code",
   "execution_count": 15,
   "metadata": {},
   "outputs": [
    {
     "data": {
      "text/plain": [
       "Text(0, 0.5, 'N_TraitValue')"
      ]
     },
     "execution_count": 15,
     "metadata": {},
     "output_type": "execute_result"
    },
    {
     "data": {
      "image/png": "[encoded data removed]",
      "text/plain": [
       "<Figure size 432x288 with 1 Axes>"
      ]
     },
     "metadata": {
      "needs_background": "light"
     },
     "output_type": "display_data"
    }
   ],
   "source": [
    "plt.scatter(ResDens, NTrait)\n",
    "plt.plot(ResDens, calc_CQ(ResDens, *popt), '-r')\n",
    "plt.plot(RDensities, calc_CQ(RDensities, *popt), '-g')\n",
    "plt.xlabel('ResourceDensity')\n",
    "plt.ylabel('N_TraitValue')"
   ]
  },
  {
   "cell_type": "markdown",
   "metadata": {},
   "source": [
    "### Fit function 2 using lmfit"
   ]
  },
  {
   "cell_type": "code",
   "execution_count": 16,
   "metadata": {},
   "outputs": [],
   "source": [
    "def calc_CQlmfit(params, Xr):  ## arbitrarily difined right now as 0.05\n",
    "    \"\"\"The equation for the more general Type II functional response curve.\n",
    "    Need an argument params which is a dictionary containing the parameter values.\n",
    "    This dictionary is made using lmfit.parameters().\n",
    "    Includes a dimensionless parameter `q` which is used to account for a small lag phase at the start of the curve\"\"\"\n",
    "    vals = params.valuesdict()\n",
    "    a = vals['a']\n",
    "    h = vals['h']\n",
    "    q = vals['q']\n",
    "    \n",
    "    top = a*Xr**(q+1)\n",
    "    bot = 1 + (h*a*Xr**(q+1))\n",
    "    C = top/bot\n",
    "    return C "
   ]
  },
  {
   "cell_type": "code",
   "execution_count": null,
   "metadata": {},
   "outputs": [],
   "source": []
  },
  {
   "cell_type": "code",
   "execution_count": null,
   "metadata": {},
   "outputs": [],
   "source": []
  },
  {
   "cell_type": "code",
   "execution_count": 17,
   "metadata": {},
   "outputs": [
    {
     "data": {
      "text/html": [
       "<h2>Fit Statistics</h2><table><tr><td>fitting method</td><td>leastsq</td><td></td></tr><tr><td># function evals</td><td>13</td><td></td></tr><tr><td># data points</td><td>9</td><td></td></tr><tr><td># variables</td><td>3</td><td></td></tr><tr><td>chi-square</td><td> 4.3621e-38</td><td></td></tr><tr><td>reduced chi-square</td><td> 7.2701e-39</td><td></td></tr><tr><td>Akaike info crit.</td><td>-788.002575</td><td></td></tr><tr><td>Bayesian info crit.</td><td>-787.410901</td><td></td></tr></table><h2>Variables</h2><table><tr><th> name </th><th> value </th><th> initial value </th><th> min </th><th> max </th><th> vary </th></tr><tr><td> a </td><td>  4.2143e-25 </td><td> 0.1 </td><td>        -inf </td><td>         inf </td><td> True </td></tr><tr><td> h </td><td>  0.40000009 </td><td> 0.1 </td><td>        -inf </td><td>         inf </td><td> True </td></tr><tr><td> q </td><td>  0.79999988 </td><td> 0.8 </td><td>        -inf </td><td>         inf </td><td> True </td></tr></table>"
      ],
      "text/plain": [
       "<lmfit.minimizer.MinimizerResult at 0x7fa4b40d3908>"
      ]
     },
     "execution_count": 17,
     "metadata": {},
     "output_type": "execute_result"
    }
   ],
   "source": [
    "# CQMod = lmfit.Model(calc_CQ)\n",
    "# print(CQMod.param_names)\n",
    "\n",
    "\n",
    "val_a =.1\n",
    "val_h = .1\n",
    "val_q = .8\n",
    "\n",
    "CQParams = lmfit.Parameters()\n",
    "CQParams.add_many(('a', val_a), ('h', val_h), ('q', val_q))\n",
    "CQParams.valuesdict()['a']\n",
    "\n",
    "\n",
    "\n",
    "CQ = lmfit.minimize(fcn = calc_CQlmfit, params = CQParams, args = (ResDens,)) # the `,` seems to make it go through item wise\n",
    "\n",
    "\n",
    "# CQ = lmfit.Model(calc_CQ)\n",
    "# CQ.set_param_hint('a', value=.1)\n",
    "# CQ.set_param_hint('h', value=.1)\n",
    "# CQ_params = CQ.make_params()\n",
    "# out = CQ.fit(x = ResDens, params)\n",
    "CQ.aic\n",
    "CQ"
   ]
  },
  {
   "cell_type": "code",
   "execution_count": 18,
   "metadata": {},
   "outputs": [
    {
     "data": {
      "text/plain": [
       "[<matplotlib.lines.Line2D at 0x7fa4b40abfd0>]"
      ]
     },
     "execution_count": 18,
     "metadata": {},
     "output_type": "execute_result"
    },
    {
     "data": {
      "image/png": "[encoded data removed]",
      "text/plain": [
       "<Figure size 432x288 with 1 Axes>"
      ]
     },
     "metadata": {
      "needs_background": "light"
     },
     "output_type": "display_data"
    }
   ],
   "source": [
    "FittedVals = CQ.params.valuesdict()\n",
    "calc_CQlmfit(CQ.params, ResDens)\n",
    "# print(calc_CQlmfit(CQ.params, RDensities))\n",
    "# print(calc_CQlmfit(CQ.params, ResDens))\n",
    "plt.scatter(ResDens, NTrait)\n",
    "plt.plot(ResDens, calc_CQlmfit(CQ.params, ResDens), '-r')\n",
    "plt.plot(RDensities, calc_CQlmfit(CQ.params, RDensities), '-g')\n",
    "# plt.xlabel('ResourceDensity')\n",
    "# plt.ylabel('N_TraitValue')"
   ]
  },
  {
   "cell_type": "code",
   "execution_count": 19,
   "metadata": {},
   "outputs": [
    {
     "ename": "ValueError",
     "evalue": "x, y, and format string must not be None",
     "output_type": "error",
     "traceback": [
      "\u001b[0;31m---------------------------------------------------------------------------\u001b[0m",
      "\u001b[0;31mValueError\u001b[0m                                Traceback (most recent call last)",
      "\u001b[0;32m<ipython-input-19-c3304aac7cc6>\u001b[0m in \u001b[0;36m<module>\u001b[0;34m\u001b[0m\n\u001b[1;32m      6\u001b[0m \u001b[0mresultsCQmod\u001b[0m \u001b[0;34m=\u001b[0m \u001b[0mCQmod\u001b[0m\u001b[0;34m.\u001b[0m\u001b[0mfit\u001b[0m\u001b[0;34m(\u001b[0m\u001b[0mNTrait\u001b[0m\u001b[0;34m,\u001b[0m \u001b[0mXr\u001b[0m\u001b[0;34m=\u001b[0m\u001b[0mResDens\u001b[0m\u001b[0;34m,\u001b[0m \u001b[0ma\u001b[0m\u001b[0;34m=\u001b[0m\u001b[0mval_a\u001b[0m\u001b[0;34m,\u001b[0m \u001b[0mh\u001b[0m\u001b[0;34m=\u001b[0m \u001b[0mval_h\u001b[0m\u001b[0;34m,\u001b[0m \u001b[0mq\u001b[0m\u001b[0;34m=\u001b[0m\u001b[0;36m0\u001b[0m\u001b[0;34m)\u001b[0m\u001b[0;34m\u001b[0m\u001b[0;34m\u001b[0m\u001b[0m\n\u001b[1;32m      7\u001b[0m \u001b[0mplt\u001b[0m\u001b[0;34m.\u001b[0m\u001b[0mplot\u001b[0m\u001b[0;34m(\u001b[0m\u001b[0mResDens\u001b[0m\u001b[0;34m,\u001b[0m \u001b[0mNTrait\u001b[0m\u001b[0;34m,\u001b[0m \u001b[0;34m\"bo\"\u001b[0m\u001b[0;34m)\u001b[0m\u001b[0;34m\u001b[0m\u001b[0;34m\u001b[0m\u001b[0m\n\u001b[0;32m----> 8\u001b[0;31m \u001b[0mplt\u001b[0m\u001b[0;34m.\u001b[0m\u001b[0mplot\u001b[0m\u001b[0;34m(\u001b[0m\u001b[0mResDens\u001b[0m\u001b[0;34m.\u001b[0m\u001b[0msort\u001b[0m\u001b[0;34m(\u001b[0m\u001b[0;34m)\u001b[0m\u001b[0;34m,\u001b[0m \u001b[0mresultsCQmod\u001b[0m\u001b[0;34m.\u001b[0m\u001b[0mbest_fit\u001b[0m\u001b[0;34m,\u001b[0m \u001b[0;34m\"r-\"\u001b[0m\u001b[0;34m)\u001b[0m\u001b[0;34m\u001b[0m\u001b[0;34m\u001b[0m\u001b[0m\n\u001b[0m\u001b[1;32m      9\u001b[0m \u001b[0mplt\u001b[0m\u001b[0;34m.\u001b[0m\u001b[0mshow\u001b[0m\u001b[0;34m(\u001b[0m\u001b[0;34m)\u001b[0m\u001b[0;34m\u001b[0m\u001b[0;34m\u001b[0m\u001b[0m\n",
      "\u001b[0;32m/usr/local/lib/python3.6/dist-packages/matplotlib/pyplot.py\u001b[0m in \u001b[0;36mplot\u001b[0;34m(scalex, scaley, data, *args, **kwargs)\u001b[0m\n\u001b[1;32m   2793\u001b[0m     return gca().plot(\n\u001b[1;32m   2794\u001b[0m         *args, scalex=scalex, scaley=scaley, **({\"data\": data} if data\n\u001b[0;32m-> 2795\u001b[0;31m         is not None else {}), **kwargs)\n\u001b[0m\u001b[1;32m   2796\u001b[0m \u001b[0;34m\u001b[0m\u001b[0m\n\u001b[1;32m   2797\u001b[0m \u001b[0;34m\u001b[0m\u001b[0m\n",
      "\u001b[0;32m/usr/local/lib/python3.6/dist-packages/matplotlib/axes/_axes.py\u001b[0m in \u001b[0;36mplot\u001b[0;34m(self, scalex, scaley, data, *args, **kwargs)\u001b[0m\n\u001b[1;32m   1664\u001b[0m         \"\"\"\n\u001b[1;32m   1665\u001b[0m         \u001b[0mkwargs\u001b[0m \u001b[0;34m=\u001b[0m \u001b[0mcbook\u001b[0m\u001b[0;34m.\u001b[0m\u001b[0mnormalize_kwargs\u001b[0m\u001b[0;34m(\u001b[0m\u001b[0mkwargs\u001b[0m\u001b[0;34m,\u001b[0m \u001b[0mmlines\u001b[0m\u001b[0;34m.\u001b[0m\u001b[0mLine2D\u001b[0m\u001b[0;34m.\u001b[0m\u001b[0m_alias_map\u001b[0m\u001b[0;34m)\u001b[0m\u001b[0;34m\u001b[0m\u001b[0;34m\u001b[0m\u001b[0m\n\u001b[0;32m-> 1666\u001b[0;31m         \u001b[0mlines\u001b[0m \u001b[0;34m=\u001b[0m \u001b[0;34m[\u001b[0m\u001b[0;34m*\u001b[0m\u001b[0mself\u001b[0m\u001b[0;34m.\u001b[0m\u001b[0m_get_lines\u001b[0m\u001b[0;34m(\u001b[0m\u001b[0;34m*\u001b[0m\u001b[0margs\u001b[0m\u001b[0;34m,\u001b[0m \u001b[0mdata\u001b[0m\u001b[0;34m=\u001b[0m\u001b[0mdata\u001b[0m\u001b[0;34m,\u001b[0m \u001b[0;34m**\u001b[0m\u001b[0mkwargs\u001b[0m\u001b[0;34m)\u001b[0m\u001b[0;34m]\u001b[0m\u001b[0;34m\u001b[0m\u001b[0;34m\u001b[0m\u001b[0m\n\u001b[0m\u001b[1;32m   1667\u001b[0m         \u001b[0;32mfor\u001b[0m \u001b[0mline\u001b[0m \u001b[0;32min\u001b[0m \u001b[0mlines\u001b[0m\u001b[0;34m:\u001b[0m\u001b[0;34m\u001b[0m\u001b[0;34m\u001b[0m\u001b[0m\n\u001b[1;32m   1668\u001b[0m             \u001b[0mself\u001b[0m\u001b[0;34m.\u001b[0m\u001b[0madd_line\u001b[0m\u001b[0;34m(\u001b[0m\u001b[0mline\u001b[0m\u001b[0;34m)\u001b[0m\u001b[0;34m\u001b[0m\u001b[0;34m\u001b[0m\u001b[0m\n",
      "\u001b[0;32m/usr/local/lib/python3.6/dist-packages/matplotlib/axes/_base.py\u001b[0m in \u001b[0;36m__call__\u001b[0;34m(self, *args, **kwargs)\u001b[0m\n\u001b[1;32m    223\u001b[0m                 \u001b[0mthis\u001b[0m \u001b[0;34m+=\u001b[0m \u001b[0margs\u001b[0m\u001b[0;34m[\u001b[0m\u001b[0;36m0\u001b[0m\u001b[0;34m]\u001b[0m\u001b[0;34m,\u001b[0m\u001b[0;34m\u001b[0m\u001b[0;34m\u001b[0m\u001b[0m\n\u001b[1;32m    224\u001b[0m                 \u001b[0margs\u001b[0m \u001b[0;34m=\u001b[0m \u001b[0margs\u001b[0m\u001b[0;34m[\u001b[0m\u001b[0;36m1\u001b[0m\u001b[0;34m:\u001b[0m\u001b[0;34m]\u001b[0m\u001b[0;34m\u001b[0m\u001b[0;34m\u001b[0m\u001b[0m\n\u001b[0;32m--> 225\u001b[0;31m             \u001b[0;32myield\u001b[0m \u001b[0;32mfrom\u001b[0m \u001b[0mself\u001b[0m\u001b[0;34m.\u001b[0m\u001b[0m_plot_args\u001b[0m\u001b[0;34m(\u001b[0m\u001b[0mthis\u001b[0m\u001b[0;34m,\u001b[0m \u001b[0mkwargs\u001b[0m\u001b[0;34m)\u001b[0m\u001b[0;34m\u001b[0m\u001b[0;34m\u001b[0m\u001b[0m\n\u001b[0m\u001b[1;32m    226\u001b[0m \u001b[0;34m\u001b[0m\u001b[0m\n\u001b[1;32m    227\u001b[0m     \u001b[0;32mdef\u001b[0m \u001b[0mget_next_color\u001b[0m\u001b[0;34m(\u001b[0m\u001b[0mself\u001b[0m\u001b[0;34m)\u001b[0m\u001b[0;34m:\u001b[0m\u001b[0;34m\u001b[0m\u001b[0;34m\u001b[0m\u001b[0m\n",
      "\u001b[0;32m/usr/local/lib/python3.6/dist-packages/matplotlib/axes/_base.py\u001b[0m in \u001b[0;36m_plot_args\u001b[0;34m(self, tup, kwargs)\u001b[0m\n\u001b[1;32m    375\u001b[0m         \u001b[0;31m# downstream.\u001b[0m\u001b[0;34m\u001b[0m\u001b[0;34m\u001b[0m\u001b[0;34m\u001b[0m\u001b[0m\n\u001b[1;32m    376\u001b[0m         \u001b[0;32mif\u001b[0m \u001b[0many\u001b[0m\u001b[0;34m(\u001b[0m\u001b[0mv\u001b[0m \u001b[0;32mis\u001b[0m \u001b[0;32mNone\u001b[0m \u001b[0;32mfor\u001b[0m \u001b[0mv\u001b[0m \u001b[0;32min\u001b[0m \u001b[0mtup\u001b[0m\u001b[0;34m)\u001b[0m\u001b[0;34m:\u001b[0m\u001b[0;34m\u001b[0m\u001b[0;34m\u001b[0m\u001b[0m\n\u001b[0;32m--> 377\u001b[0;31m             \u001b[0;32mraise\u001b[0m \u001b[0mValueError\u001b[0m\u001b[0;34m(\u001b[0m\u001b[0;34m\"x, y, and format string must not be None\"\u001b[0m\u001b[0;34m)\u001b[0m\u001b[0;34m\u001b[0m\u001b[0;34m\u001b[0m\u001b[0m\n\u001b[0m\u001b[1;32m    378\u001b[0m \u001b[0;34m\u001b[0m\u001b[0m\n\u001b[1;32m    379\u001b[0m         \u001b[0mkw\u001b[0m \u001b[0;34m=\u001b[0m \u001b[0;34m{\u001b[0m\u001b[0;34m}\u001b[0m\u001b[0;34m\u001b[0m\u001b[0;34m\u001b[0m\u001b[0m\n",
      "\u001b[0;31mValueError\u001b[0m: x, y, and format string must not be None"
     ]
    },
    {
     "data": {
      "image/png": "[encoded data removed]",
      "text/plain": [
       "<Figure size 432x288 with 1 Axes>"
      ]
     },
     "metadata": {
      "needs_background": "light"
     },
     "output_type": "display_data"
    }
   ],
   "source": [
    "CQmod = lmfit.Model(calc_CQ)  # set the model and equations we want to use\n",
    "paramsCQmod = CQmod.make_params(a=val_a, h= val_h, q=0)\n",
    "\n",
    "# ResDens = ResDens.sort()\n",
    "\n",
    "resultsCQmod = CQmod.fit(NTrait, Xr=ResDens, a=val_a, h= val_h, q=0)\n",
    "plt.plot(ResDens, NTrait, \"bo\")\n",
    "plt.plot(ResDens.sort(), resultsCQmod.best_fit, \"r-\")\n",
    "plt.show()"
   ]
  },
  {
   "cell_type": "markdown",
   "metadata": {},
   "source": [
    "# Calculate RSS\n",
    "ModelFit = the fitted NLS Model\n",
    "\n",
    "data2fitx = data we are using for the x axis of our model, i.e. ResDens\n",
    "\n",
    "\n",
    "**Mode not needed in funtion below?**"
   ]
  },
  {
   "cell_type": "code",
   "execution_count": null,
   "metadata": {},
   "outputs": [],
   "source": [
    "def calc_RSS(data2fitx, ModelFit, Model = calc_C, mode = \"NLS\"):## model var is to specifty which equation should be used. Model fit is popt under sc.optimize\n",
    "    \"\"\"Calculates the Residual Sum of Squares for a set of data given the model fit.  \n",
    "    The equation used to fit the model can also be changed using the `Model` argument, default is the `calc_C` function.\n",
    "    Can be used for both NLS and lm, specified with mode = \"NLS\" OR \"lm\".\"\"\"\n",
    "    diffList = []\n",
    "    a = ModelFit[0] # search rate\n",
    "    h = ModelFit[1] # handling time\n",
    "\n",
    "    if mode == \"NLS\":\n",
    "        for i in range(len(data2fitx)):\n",
    "        #find diff between model and observed\n",
    "            diffList.append(abs(Model(data2fitx[i], a, h) - data2fitx[i])**2)\n",
    "            #sum the values\n",
    "            RSS = sum(diffList)\n",
    "\n",
    "    if mode == \"lm\":\n",
    "        for i in range(len(data2fitx)):\n",
    "        #find diff between model and observed\n",
    "            diffList.append(abs(Model(data2fitx[i], a, h) - data2fitx[i])**2)\n",
    "        #sum the values\n",
    "            RSS = sum(diffList)\n",
    "    \n",
    "    return RSS  \n",
    "\n",
    "RSS = calc_RSS(ResDens, popt, Model=calc_CQ)\n",
    "RSS"
   ]
  },
  {
   "cell_type": "markdown",
   "metadata": {},
   "source": [
    "# Calculating AIC\n",
    "\n",
    "***from Model Fitting Notes***\n",
    "\n",
    "ModelFit = the fitted NLS Model\n",
    "\n",
    "n <- nrow(Data2Fit) #set sample size\n",
    "\n",
    "pModel <- length(coef(ModelFit)) # get number of parameters in power law model\n",
    "\n",
    "Model_RSS <- sum(residuals(ModelFit)^2) \n",
    "\n",
    "AIC_Model <- n + 2 + n * log((2 * pi) / n) +  n * log(Model_RSS) + 2 * pModel\n"
   ]
  },
  {
   "cell_type": "markdown",
   "metadata": {},
   "source": [
    "This is to find the number of parameters of the model"
   ]
  },
  {
   "cell_type": "code",
   "execution_count": null,
   "metadata": {},
   "outputs": [],
   "source": [
    "def pModel(coefficients):\n",
    "    \"\"\"Return number of parameters of a model when given a list of them.\"\"\"\n",
    "    return len(coefficients)\n",
    "p = pModel(popt)\n",
    "p"
   ]
  },
  {
   "cell_type": "code",
   "execution_count": null,
   "metadata": {},
   "outputs": [],
   "source": [
    "def AIC(data2fit, n, Model_RSS, pModel):\n",
    "    \"\"\"Calculates the AIC value given the data (data2fit), number of samples (n), \n",
    "    the RSS of the model (Model_RSS) and number of parameters in the model(pModel).\"\"\"\n",
    "    return n + 2 + n * log((2 * pi) / n) + n * log(Model_RSS) + 2 * pModel\n",
    "\n",
    "AIC(ResDens, len(ResDens), RSS, p)"
   ]
  },
  {
   "cell_type": "markdown",
   "metadata": {},
   "source": [
    "# Calculating BIC\n",
    "\n",
    "***From Model FItting Lecture notes***\n",
    "\n",
    "n + 2 + n *ln(2pi/n) + n *ln(RSS) + p *ln(n)\n",
    "\n",
    "log in python and R is natural log by default.  log 10 is base 10."
   ]
  },
  {
   "cell_type": "code",
   "execution_count": null,
   "metadata": {},
   "outputs": [],
   "source": [
    "def calc_BIC(data2fit, n, Model_RSS, pModel):\n",
    "    \"\"\"Calculates the BIC value given the data (data2fit), number of samples (n), \n",
    "    the RSS of the model (Model_RSS) and number of parameters in the model(pModel).\"\"\"\n",
    "    return n + 2 + n *log(2*pi/n) + n *log(RSS) + p *log(n)\n",
    "\n",
    "calc_BIC(ResDens, len(ResDens), RSS, p)"
   ]
  },
  {
   "cell_type": "markdown",
   "metadata": {},
   "source": [
    "# Estimate Starting Values\n",
    "\n",
    "`h` estimate => the max value for the `N_TrainValue`\n",
    "\n",
    "`a` estimate => the slope of a `lm` for  the model,  can remove upper `ResDens`values until highest `AIC` is obtained.\n",
    "\n",
    "**Caveats** \n",
    "* `a` will not account for lag phase\n",
    "* `a` will not look at `IC` can see if this changes values significantly and read into which should be better for this dataset.\n",
    "\n",
    "\n",
    "\n",
    "**Alternative Methods to Try**\n",
    "\n",
    "* log transform the data for obtaining `a`\n",
    "* find the top several values of `N_Trait val` and obtain a mean OR lm and take the intercept.\n",
    "    * could be negative slope in which case this is questionable"
   ]
  },
  {
   "cell_type": "markdown",
   "metadata": {},
   "source": [
    "### Estimate `h`"
   ]
  },
  {
   "cell_type": "code",
   "execution_count": null,
   "metadata": {},
   "outputs": [],
   "source": [
    "h = max(NTrait)\n",
    "h"
   ]
  },
  {
   "cell_type": "markdown",
   "metadata": {},
   "source": [
    "### Estimate `a`"
   ]
  },
  {
   "cell_type": "code",
   "execution_count": null,
   "metadata": {},
   "outputs": [],
   "source": [
    "best_a = None # for recording the value of `a` which gave the lowest RSS value.\n",
    "smallest_RSS = None # for recording the lowest RSS value.\n",
    "\n",
    "# equalList = []#list for storing any equal results\n",
    "for i in range(len(ResDens), -1, -1): ## loop back from len(ResDens)\n",
    "\n",
    "    if len(ResDens[0:i]) <2:\n",
    "        print(\"less than 2 points\")\n",
    "        break\n",
    "    \n",
    "    tmpRegress = stats.linregress(ResDens[0:i], NTrait[0:i]) #linear regression with ever shrinking data set from \n",
    "    paramEst =  [tmpRegress[0], h]#parameters for this iteration, h is found beforehand. a is slope of the line\n",
    "    print(paramEst)\n",
    "#     print(smallest_a)\n",
    "\n",
    "\n",
    "    \n",
    "    if smallest_RSS == None: # i.e. first loop\n",
    "        \n",
    "        smallest_RSS = calc_RSS(ResDens[0:i],paramEst, Model = calc_CQ)\n",
    "        smallest_a = tmpRegress[0]\n",
    "        \n",
    "    elif calc_RSS(ResDens[0:i],paramEst, Model = calc_CQ) < smallest_RSS:#if RSS is smaller record\n",
    "        \n",
    "        if sc.isnan(tmpRegress[0]): # skip if a becomes nan\n",
    "            break\n",
    "            \n",
    "        else:\n",
    "            smallest_RSS = calc_RSS(ResDens[0:i], paramEst, Model = calc_CQ)\n",
    "            smallest_a = tmpRegress[0]\n",
    "\n",
    "\n",
    "#     elif: #if equal what to do?\n",
    "    \n",
    "    else: #if not skip\n",
    "        print(\"bigger\")\n",
    "        \n",
    "        \n",
    "    if sc.isinf(paramEst[0]):\n",
    "        print(\"boo\")\n",
    "        \n",
    "    print(\"RSS = \", smallest_RSS)\n",
    "    print(\"points used = \",len(ResDens[0:i]))\n",
    "        \n",
    "        \n",
    "        \n",
    "#         print(type(params))\n",
    "#         smallest_RSS = RSS(ResDens, params, Model = calc_C)\n",
    "        \n",
    "    \n",
    "\n",
    "\n",
    "stats.linregress(ResDens, NTrait)\n",
    "\n",
    "\n",
    "\n",
    "\n",
    "\n",
    "\n",
    "\n",
    "\n"
   ]
  },
  {
   "cell_type": "code",
   "execution_count": null,
   "metadata": {},
   "outputs": [],
   "source": []
  },
  {
   "cell_type": "markdown",
   "metadata": {},
   "source": [
    "### **Concerns**\n",
    "is it reasonable to stop once the RSS is no longer improving, i.e. assume we have removed all asymptoted data points"
   ]
  },
  {
   "cell_type": "markdown",
   "metadata": {},
   "source": [
    "### example on using optimize.curve_fit from: https://docs.scipy.org/doc/scipy/reference/generated/scipy.optimize.curve_fit.html#scipy.optimize.curve_fit\n"
   ]
  },
  {
   "cell_type": "code",
   "execution_count": null,
   "metadata": {},
   "outputs": [],
   "source": [
    "# \n",
    "import matplotlib.pyplot as plt\n",
    "import numpy as np\n",
    "from scipy.optimize import curve_fit\n",
    "\n",
    "\n",
    "def func(x, a, b, c):\n",
    "    return a * np.exp(-b * x) + c\n",
    "\n",
    "# Define the data to be fit with some noise:\n",
    "\n",
    "\n",
    "xdata = np.linspace(0, 4, 50)\n",
    "y = func(xdata, 2.5, 1.3, 0.5)\n",
    "np.random.seed(1729)\n",
    "y_noise = 0.2 * np.random.normal(size=xdata.size)\n",
    "ydata = y + y_noise\n",
    "plt.plot(xdata, ydata, 'b-', label='data')\n",
    "\n",
    "# Fit for the parameters a, b, c of the function func:\n",
    "\n",
    "\n",
    "popt, pcov = curve_fit(func, xdata, ydata)\n",
    "popt\n",
    "\n",
    "plt.plot(xdata, func(xdata, *popt), 'r-', label='fit: a=%5.3f, b=%5.3f, c=%5.3f' % tuple(popt))\n",
    "\n",
    "# Constrain the optimization to the region of 0 <= a <= 3, 0 <= b <= 1 and 0 <= c <= 0.5:\n",
    "\n",
    "\n",
    "popt, pcov = curve_fit(func, xdata, ydata, bounds=(0, [3., 1., 0.5]))\n",
    "popt\n",
    "\n",
    "plt.plot(xdata, func(xdata, *popt), 'g--', label='fit: a=%5.3f, b=%5.3f, c=%5.3f' % tuple(popt))\n",
    "\n",
    "\n",
    "\n",
    "plt.xlabel('x')\n",
    "plt.ylabel('y')\n",
    "plt.legend()\n",
    "plt.show()\n",
    "\n"
   ]
  },
  {
   "cell_type": "markdown",
   "metadata": {},
   "source": [
    "for starting values can look at the plots \n",
    "\n",
    "can also try to run the freeplot 1000x and use values generated by that"
   ]
  },
  {
   "cell_type": "markdown",
   "metadata": {},
   "source": [
    "# Thoughts for biologial questions"
   ]
  },
  {
   "cell_type": "markdown",
   "metadata": {},
   "source": [
    "* \n",
    "* \n",
    "* \n",
    "* \n",
    "* \n"
   ]
  },
  {
   "cell_type": "markdown",
   "metadata": {},
   "source": [
    "## Notes on finding starting values\n",
    "\n",
    "by looking at tangents at different parts of model you can get reasonable starting values for parameters.\n",
    "\n",
    "break up curve and fit lm to each section. (the lm shouldnt deviate each run so no need to repeat)\n",
    "\n",
    "a is the increaseing section\n",
    "h is the leveled out max section\n",
    "    \n",
    "once this is optimised.  If there are a lot of failed fits then can sample around the estimated starting values from a distribution to further optimise\n",
    "\n",
    "find line for h, i.e. take last point and vals near it/ last two vals and make a line.  take a to be all vals below that line's intercept.\n",
    "\n",
    "for a can fit a polynomial and slowly remove points, once the polynomial stops fitting then it should be linear.\n",
    "\n",
    "![Board from class](NotebookPictures/startingVals.jpg)"
   ]
  },
  {
   "cell_type": "code",
   "execution_count": null,
   "metadata": {},
   "outputs": [],
   "source": []
  },
  {
   "cell_type": "code",
   "execution_count": null,
   "metadata": {},
   "outputs": [],
   "source": []
  },
  {
   "cell_type": "code",
   "execution_count": null,
   "metadata": {},
   "outputs": [],
   "source": []
  },
  {
   "cell_type": "code",
   "execution_count": null,
   "metadata": {},
   "outputs": [],
   "source": []
  }
 ],
 "metadata": {
  "kernelspec": {
   "display_name": "Python 3",
   "language": "python",
   "name": "python3"
  },
  "language_info": {
   "codemirror_mode": {
    "name": "ipython",
    "version": 3
   },
   "file_extension": ".py",
   "mimetype": "text/x-python",
   "name": "python",
   "nbconvert_exporter": "python",
   "pygments_lexer": "ipython3",
   "version": "3.6.9"
  }
 },
 "nbformat": 4,
 "nbformat_minor": 2
}
