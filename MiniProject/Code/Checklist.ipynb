{
 "cells": [
  {
   "cell_type": "markdown",
   "metadata": {},
   "source": [
    "\n",
    "# Suggested Workflow\n",
    "\n",
    "You will build a workflow that starts with the data and ends with a report written in LaTeX. I suggest the following components and sequence in your workflow (you can choose to do it differently!):\n",
    "\n",
    "    A Python or R script that imports the data and prepares it for NLLS fitting, with the following features:\n",
    "        It should create unique ids so that you can identify unique datasets (e.g., single thermal responses)\n",
    "        It may filter out datasets with less than x\n",
    "\n",
    "data points (where x\n",
    "\n",
    "        is the minimum number of data points needed to fit the models).\n",
    "        It should deal with missing, and other problematic data values\n",
    "\n",
    "    The script should add columns containing starting values of the model parameters for the NLLS fitting (how will you get these?)\n",
    "\n",
    "    Save the modified data to a new csv file.\n",
    "\n",
    "A Python (or R) script that opens the new modified dataset (from step 1) and does the NLLS fitting. For example, if you choose Python for this, it might have the following features:\n",
    "\n",
    "    Uses lmfit — look up submodules minimize, Parameters, Parameter, and report_fit. Have a look through http://lmfit.github.io/lmfit-py, especially http://lmfit.github.io/lmfit-py/fitting.html#minimize\\ You will have to install lmfit using pip or easy_install - use sudo mode. In addition to the lmfit example in class, you may want to look for others online.\n",
    "\n",
    "    Will use the try construct because not all runs will converge. Recall the try example from R.\n",
    "\n",
    "    The more data curves you are able to fit, the better — that is part of the challenge!\n",
    "\n",
    "    Will calculate AIC, BIC, R2\n",
    "\n",
    "    , and other statistical measures of fit (you decide what you want to include)\n",
    "\n",
    "    Will export the results to a csv that the plotting R script (next item) can read.\n",
    "\n",
    "    A R script that imports the results from the previous step and plots every curve with the two (or more) models (or none, if nothing converges) overlaid — all plots should be saved in a single separate sub-directory. Use ggplot for pretty results!\n",
    "\n",
    "    LaTeX source code that generates your report.\n",
    "\n",
    "    A Python script (saved in Code) called run_MiniProject.py that runs the whole project, right down to compilation of the LaTeX  document.\n",
    "\n",
    "Doing all this may seem a bit scary at the start. However, you need to approach the problem systematically and methodically, and you will be OK. here are some suggested first steps to get you started:\n",
    "\n",
    "    Explore the data in R and get a preliminary version of the plotting script without the fitted models overlaid worked out. That will also give you a feel for the data.\n",
    "\n",
    "    Explore the two models – be able to plot them. Write them as functions in your python script, because that's where you will use them (step 2 above) (you can use matplotlib for quick and dirty plotting and then suppress those code lines later).\n",
    "\n",
    "    Figure out, using a minimal example (say, with one, \"nice-looking\" thermal performance, functional response, or population growth curve/dataset) to see how the python lmfit module works. We can help you work out th minimal example, including the usage of try to catch errors in case the fitting doesn't converge.\n",
    "\n",
    "One thing to note is that you may need to do the NLLS fitting on the logarithm of the function (and therefore, the data) to facilitate conve"
   ]
  },
  {
   "cell_type": "code",
   "execution_count": null,
   "metadata": {},
   "outputs": [],
   "source": []
  }
 ],
 "metadata": {
  "kernelspec": {
   "display_name": "Python 3",
   "language": "python",
   "name": "python3"
  },
  "language_info": {
   "codemirror_mode": {
    "name": "ipython",
    "version": 3
   },
   "file_extension": ".py",
   "mimetype": "text/x-python",
   "name": "python",
   "nbconvert_exporter": "python",
   "pygments_lexer": "ipython3",
   "version": "3.6.8"
  }
 },
 "nbformat": 4,
 "nbformat_minor": 2
}
